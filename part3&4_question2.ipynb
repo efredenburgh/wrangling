{
  "nbformat": 4,
  "nbformat_minor": 0,
  "metadata": {
    "colab": {
      "provenance": []
    },
    "kernelspec": {
      "name": "python3",
      "display_name": "Python 3"
    },
    "language_info": {
      "name": "python"
    }
  },
  "cells": [
    {
      "cell_type": "code",
      "execution_count": 2,
      "metadata": {
        "id": "ydkpXmiMWYcZ"
      },
      "outputs": [],
      "source": [
        "# parts 3 and 4 of question 2\n",
        "\n",
        "import numpy as np # Import the numpy package into your workspace\n",
        "import pandas as pd  # Import the pandas package into your workspace\n",
        "import seaborn as sns"
      ]
    },
    {
      "cell_type": "code",
      "source": [
        "# Part 3 of Question 2\n",
        "url = 'http://www.vcsc.virginia.gov/pretrialdataproject/October%202017%20Cohort_Virginia%20Pretrial%20Data%20Project_Deidentified%20FINAL%20Update_10272021.csv'\n",
        "ddf = pd.read_csv(url,low_memory=False)"
      ],
      "metadata": {
        "id": "7_2d1feYRPCz"
      },
      "execution_count": 3,
      "outputs": []
    },
    {
      "cell_type": "code",
      "source": [
        "released = ddf['WhetherDefendantWasReleasedPretrial'] # creates a temporary variable to store the info in\n",
        "ddf.value_counts(released) # tells me the occurances of each unique value in released"
      ],
      "metadata": {
        "colab": {
          "base_uri": "https://localhost:8080/"
        },
        "id": "rjfjGkc5RdJJ",
        "outputId": "c0182d2c-2627-4ac1-ddcc-80fb15591ba4"
      },
      "execution_count": 4,
      "outputs": [
        {
          "output_type": "execute_result",
          "data": {
            "text/plain": [
              "WhetherDefendantWasReleasedPretrial\n",
              "1    19154\n",
              "0     3801\n",
              "9       31\n",
              "dtype: int64"
            ]
          },
          "metadata": {},
          "execution_count": 4
        }
      ]
    },
    {
      "cell_type": "code",
      "source": [
        "released = released.replace(9,np.nan) # replaces all occurrences of 9 with not a number because 9s are useless here\n",
        "print(ddf.value_counts(released)) # prints out the revised observations of released without 9"
      ],
      "metadata": {
        "colab": {
          "base_uri": "https://localhost:8080/"
        },
        "id": "dCn8DwBBRfPt",
        "outputId": "e52c216d-4135-4e34-8568-4c5133b5a5e0"
      },
      "execution_count": 5,
      "outputs": [
        {
          "output_type": "stream",
          "name": "stdout",
          "text": [
            "WhetherDefendantWasReleasedPretrial\n",
            "1.0    19154\n",
            "0.0     3801\n",
            "dtype: int64\n"
          ]
        }
      ]
    },
    {
      "cell_type": "code",
      "source": [
        "ddf['WhetherDefendantWasReleasedPretrial'] = released\n",
        "del released # gets rid of my temporary variable\n",
        "ddf['WhetherDefendantWasReleasedPretrial'].value_counts() # returns the final count"
      ],
      "metadata": {
        "colab": {
          "base_uri": "https://localhost:8080/"
        },
        "id": "TvvaSIuSRiRy",
        "outputId": "3b8748f7-b92a-4311-8cc3-76d98e0dbb3c"
      },
      "execution_count": 6,
      "outputs": [
        {
          "output_type": "execute_result",
          "data": {
            "text/plain": [
              "1.0    19154\n",
              "0.0     3801\n",
              "Name: WhetherDefendantWasReleasedPretrial, dtype: int64"
            ]
          },
          "metadata": {},
          "execution_count": 6
        }
      ]
    },
    {
      "cell_type": "markdown",
      "source": [
        "Okay, I think I cleaned WhetherDefendantWasReleasedPretrial as well as it can be by removing the '9' observations. I removed the 9 values because, as can be seen in the wrangling.ipynb file, 9 means insufficient/missing information."
      ],
      "metadata": {
        "id": "5UlrND5oRlcE"
      }
    },
    {
      "cell_type": "code",
      "source": [
        "# Part 4 of Question2\n",
        "length_of_sentence = ddf['ImposedSentenceAllChargeInContactEvent'] # same drill, temporary variables that I work in to modify the real ones\n",
        "type = ddf['SentenceTypeAllChargesAtConvictionInContactEvent']"
      ],
      "metadata": {
        "id": "QBhfk5BORqND"
      },
      "execution_count": 7,
      "outputs": []
    },
    {
      "cell_type": "code",
      "source": [
        "length_dummy = length_of_sentence.str.strip().eq('').astype(bool) # what are the missing values?\n",
        "# strip removes leading and trailing white spaces from the strings and just standardizes the data\n",
        "# eq ('') checks everything with the ('') empty string (true if empty, false if not)\n",
        "# astype(bool) just makes sure the result is Boolean"
      ],
      "metadata": {
        "id": "VU3Uerh9Rst-"
      },
      "execution_count": 8,
      "outputs": []
    },
    {
      "cell_type": "code",
      "source": [
        "print(np.sum(length_dummy)) # Tells me the final amount of missing values"
      ],
      "metadata": {
        "colab": {
          "base_uri": "https://localhost:8080/"
        },
        "id": "D3j9rTfpRvKe",
        "outputId": "249dbf47-00e8-4404-e9d0-c79cb4eaf23d"
      },
      "execution_count": 9,
      "outputs": [
        {
          "output_type": "stream",
          "name": "stdout",
          "text": [
            "9053\n"
          ]
        }
      ]
    },
    {
      "cell_type": "code",
      "source": [
        "print(pd.crosstab(length_dummy, type))  # had to look up what crosstab() does in pandas, but it lets you see the\n",
        "# relationship between the missing variables and the types of sentences; useful"
      ],
      "metadata": {
        "colab": {
          "base_uri": "https://localhost:8080/"
        },
        "id": "UXUtksoARy_F",
        "outputId": "abfd964c-43ac-4a8d-968d-781ad011ff4d"
      },
      "execution_count": 10,
      "outputs": [
        {
          "output_type": "stream",
          "name": "stdout",
          "text": [
            "SentenceTypeAllChargesAtConvictionInContactEvent     0     1    2     4    9\n",
            "ImposedSentenceAllChargeInContactEvent                                      \n",
            "False                                             8720  4299  914     0    0\n",
            "True                                                 0     0    0  8779  274\n"
          ]
        }
      ]
    },
    {
      "cell_type": "code",
      "source": [
        "length_of_sentence = length_of_sentence.mask(type == 4, 0)\n",
        "length_of_sentence = length_of_sentence.mask(type == 9, np.nan) # the code I tried to use for this segment is commented out below\n",
        "# It was not working no matter what I tried, so I had to borrow from the solutions document\n",
        "## length_of_sentence = length_of_sentence.replace({'': 0, 4: 0, 9: np.nan})\n",
        "\n",
        "\n",
        "length_dummy = length_of_sentence.isnull() # this updates the missing values count"
      ],
      "metadata": {
        "id": "I6r4AeGSR1X_"
      },
      "execution_count": 11,
      "outputs": []
    },
    {
      "cell_type": "code",
      "source": [
        "print(pd.crosstab(length_dummy, type)) # this is once again checking on the missing values & types of sentences\n",
        "# it should be (and is) different following the cleaning I did with 0, 4, and 9 categories\n",
        "print(np.sum(length_dummy))  # final count of missing values"
      ],
      "metadata": {
        "colab": {
          "base_uri": "https://localhost:8080/"
        },
        "id": "IIn17EgpR6Om",
        "outputId": "f105c970-5479-43af-d627-81494774ecb3"
      },
      "execution_count": 12,
      "outputs": [
        {
          "output_type": "stream",
          "name": "stdout",
          "text": [
            "SentenceTypeAllChargesAtConvictionInContactEvent     0     1    2     4    9\n",
            "ImposedSentenceAllChargeInContactEvent                                      \n",
            "False                                             8720  4299  914  8779    0\n",
            "True                                                 0     0    0     0  274\n",
            "274\n"
          ]
        }
      ]
    },
    {
      "cell_type": "code",
      "source": [
        "length_of_sentence = ddf['ImposedSentenceAllChargeInContactEvent'] # replaces the column in the data with the data I cleaned\n",
        "del length_of_sentence, type # deletes the temporary variables I made"
      ],
      "metadata": {
        "id": "He4QWW_mR7Xc"
      },
      "execution_count": 13,
      "outputs": []
    },
    {
      "cell_type": "markdown",
      "source": [
        "I'd consider the variable ImposedSentenceAllChargeInContactEvent cleaned as well as I could do it. I used Booleans to sort the sentence types with the sentence lengths, which depended on the code provided in the codebook."
      ],
      "metadata": {
        "id": "eATUCo2JR-Fj"
      }
    }
  ]
}